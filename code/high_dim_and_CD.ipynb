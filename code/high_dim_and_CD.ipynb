{
 "cells": [
  {
   "cell_type": "markdown",
   "metadata": {},
   "source": [
    "M. Amintoosi"
   ]
  },
  {
   "cell_type": "markdown",
   "metadata": {},
   "source": [
    "## High Dimensional Data & the curse of dimensionality\n",
    "\n",
    "در فضاهای با ابعاد بالا:\n",
    "\n",
    "* مفهوم محلی بودن کمرنگ می‌شود، ESL\n",
    "* حجم ابرکره تقریبا صفر است، کتاب زکی\n",
    "* حجم اصلی فضا در گوشه‌ها هست\n",
    "* اکثر چگالی کره در پوسته‌ی آن جمع است، کتاب زکی\n",
    "* با بردارهای با مؤلفه‌های گوسی، بیشتر چگالی نقاط در فاصله خاصی تا مرکز است\n",
    "* همه بردارهای قطری، عمود بر محورها هستند، کتاب زکی\n",
    "* بردارهای با مؤلفه‌های گوسی عمود بر هم هستند؟\n",
    "\n",
    "\n",
    "برای آزمون برخی از اینها باید نقاطی با توزیع یکنواخت در داخل ابرکره تولید کنیم"
   ]
  },
  {
   "cell_type": "code",
   "execution_count": 28,
   "metadata": {},
   "outputs": [],
   "source": [
    "import numpy as np\n",
    "import matplotlib.pyplot as plt\n",
    "import seaborn as sns\n",
    "from scipy.stats import norm"
   ]
  },
  {
   "cell_type": "code",
   "execution_count": 17,
   "metadata": {},
   "outputs": [
    {
     "name": "stderr",
     "output_type": "stream",
     "text": [
      "c:\\Users\\hp\\.conda\\envs\\p310\\lib\\site-packages\\seaborn\\axisgrid.py:118: UserWarning: The figure layout has changed to tight\n",
      "  self._figure.tight_layout(*args, **kwargs)\n"
     ]
    },
    {
     "data": {
      "text/plain": [
       "<seaborn.axisgrid.FacetGrid at 0x157ac872350>"
      ]
     },
     "execution_count": 17,
     "metadata": {},
     "output_type": "execute_result"
    },
    {
     "data": {
      "image/png": "[encoded data removed]",
      "text/plain": [
       "<Figure size 360x360 with 1 Axes>"
      ]
     },
     "metadata": {
      "needs_background": "light"
     },
     "output_type": "display_data"
    }
   ],
   "source": [
    "x = np.random.randn(10000)\n",
    "sns.displot(x, kde=True)"
   ]
  },
  {
   "cell_type": "markdown",
   "metadata": {},
   "source": [
    "میانگین ایکس صفر هست اما میانگین قدرمطلق ایکس‌ها که اندازه فاصله آنها تا مبدا هست، صفر نیست."
   ]
  },
  {
   "cell_type": "code",
   "execution_count": 18,
   "metadata": {},
   "outputs": [
    {
     "name": "stdout",
     "output_type": "stream",
     "text": [
      "0.7988135519237081 1.0021739037730364\n"
     ]
    }
   ],
   "source": [
    "abs_x = np.abs(x)\n",
    "print(abs_x.mean(), np.sqrt(np.var(x)))\n",
    "# sns.displot(abs_x, kde=False)"
   ]
  },
  {
   "cell_type": "markdown",
   "metadata": {},
   "source": [
    "According to [Wiki](https://en.wikipedia.org/wiki/Curse_of_dimensionality): \n",
    "most of the volume of the d-cube concentrates near the boundary of a sphere of radius $\\sigma \\sqrt{d}$\n",
    "\n",
    "Also according to section **Distance of Points from the Mean** of Chap 6 of Zaki:\n",
    "whereas the ~~density of the standard multivariate normal is maximized at the center 0~~, most of the probability mass (the points) is concentrated in a small band around the mean distance\n",
    "of $\\sqrt{d}$ from the center."
   ]
  },
  {
   "cell_type": "code",
   "execution_count": 19,
   "metadata": {},
   "outputs": [
    {
     "name": "stdout",
     "output_type": "stream",
     "text": [
      "1.3744998776695894 1.4142135623730951\n"
     ]
    }
   ],
   "source": [
    "x = np.random.randn(100, 2)\n",
    "norm_x = np.linalg.norm(x, axis=1)\n",
    "print(norm_x.mean(), np.sqrt(2))\n",
    "# sns.displot(norm_x, kde=False)"
   ]
  },
  {
   "cell_type": "code",
   "execution_count": 20,
   "metadata": {},
   "outputs": [
    {
     "name": "stdout",
     "output_type": "stream",
     "text": [
      "14.126759524049337 14.142135623730951\n"
     ]
    }
   ],
   "source": [
    "x = np.random.randn(10000, 200)\n",
    "norm_x = np.linalg.norm(x, axis=1)\n",
    "print(norm_x.mean(), np.sqrt(200))"
   ]
  },
  {
   "cell_type": "markdown",
   "metadata": {},
   "source": [
    "برمی‌گردیم به تولید نقاط تصادفی در گوی واحد.\n",
    "\n",
    "ابتدا تولید نقاط تصادفی با توزیع یکنواخت بر روی دایره.\n",
    "\n",
    "روش مختصات قطبی قابل تعمیم به فضاهای بالاتر نیست.\n",
    "\n",
    "نشان می دهیم که اگر داده ها با توزیع نرمال در فضا تولید شده و سپس بر روی کره واحد نگاشت شوند توزیع آنها بر روی سطح کره یکنواخت هست"
   ]
  },
  {
   "cell_type": "markdown",
   "metadata": {},
   "source": [
    "اگر هر داده را بر نرمش تقسیم کنیم، اندازه‌ی همه داده‌ها یک خواهد شد و روی کره‌ی واحد قرار خواهند گرفت\n",
    "\n",
    "$$x = (x_1,x_2,\\dots,x_d)$$\n",
    "$$x_i \\sim \\mathcal{N}(\\mu,\\sigma^2)$$\n",
    "$$f(x) = \\frac{1}{\\sqrt{2\\pi}\\sigma} e^{-\\frac{1}{2}\\left(\\frac{x-\\mu}{\\sigma}\\right)^2}$$\n",
    "$$\\mu=0, \\sigma^2=1$$\n",
    "$$f(x_i) = \\frac{1}{\\sqrt{2\\pi}} e^{-\\frac{1}{2}x_i^2}$$\n",
    "\n",
    "$$y=\\frac{x}{||x||}$$\n",
    "وای یک بردار تصادفی یکه با توزیع یکنواخت روی کره واحد است"
   ]
  },
  {
   "cell_type": "markdown",
   "metadata": {},
   "source": [
    "مطابق روابط ۱.۱۹ و ۱.۲۰ از کتاب زکی تابع چگالی ایکس به صورت زیر است:\n",
    "\n",
    "Joint probability function  of $x$ is given as:\n",
    "$$\n",
    "\\begin{aligned}\n",
    "f(x)&=\\prod_{i=1}^d f(x_i)\\\\\n",
    "&= \\prod_{i=1}^d\\frac{1}{\\sqrt{2\\pi}} e^{-\\frac{1}{2}x_i^2}\n",
    "\\\\ \n",
    "&= \\left(\\frac{1}{\\sqrt{2\\pi}}\\right)^d e^{-\\frac{1}{2}\\sum_{i=1}^dx_i^2} \\\\\n",
    "&= \\frac{1}{(2\\pi)^{d/2}} e^{-\\frac{||x||^2}{2}}\n",
    "\\end{aligned}\n",
    "$$\n",
    "یعنی چگالی ففط به اندازه بردار بستگی دارد. پس همه نقاط روی کره‌ی به شعاع مشخص چگالی یکسانی دارند.\n",
    "\n",
    "دوباره تکه برنامه قبلی رو می‌نویسیم\n"
   ]
  },
  {
   "cell_type": "code",
   "execution_count": 21,
   "metadata": {},
   "outputs": [
    {
     "name": "stdout",
     "output_type": "stream",
     "text": [
      "1.3357738124143879 1.4142135623730951\n"
     ]
    },
    {
     "data": {
      "text/plain": [
       "((100, 2), (100, 1))"
      ]
     },
     "execution_count": 21,
     "metadata": {},
     "output_type": "execute_result"
    }
   ],
   "source": [
    "x = np.random.randn(100, 2)\n",
    "norm_x = np.linalg.norm(x, axis=1)\n",
    "print(norm_x.mean(), np.sqrt(2))\n",
    "# sns.displot(norm_x, kde=False)\n",
    "x.shape, norm_x[:,np.newaxis].shape"
   ]
  },
  {
   "cell_type": "code",
   "execution_count": 22,
   "metadata": {},
   "outputs": [
    {
     "data": {
      "image/png": "[encoded data removed]",
      "text/plain": [
       "<Figure size 432x288 with 1 Axes>"
      ]
     },
     "metadata": {
      "needs_background": "light"
     },
     "output_type": "display_data"
    }
   ],
   "source": [
    "y = x/norm_x[:,np.newaxis]\n",
    "plt.scatter(x[:,0],x[:,1], 2)\n",
    "plt.scatter(y[:,0],y[:,1], 5)\n",
    "ax = plt.gca()\n",
    "ax.set_aspect('equal', adjustable='box')\n",
    "plt.draw()"
   ]
  },
  {
   "cell_type": "markdown",
   "metadata": {},
   "source": [
    "با داشتن اعداد تصادفی با توزیع یکنواخت\n",
    " می‌توان با هر توزیعی تولید کرد\n",
    "\n",
    "## Cumulative Distribution Function\n",
    "For random variable $X$, its cumulative distribution function (CDF) $F:\\mathbb{R} \\to [0,1]$,\n",
    "gives the probability of observing a value at most\n",
    "some given value $x$: (eq. 1.17 of Zaki)\n",
    "$$\n",
    "\\large\n",
    "\\begin{aligned}\n",
    "    F(x) = P(X \\le x) \\qquad \\text{for all } -\\infty < x < \\infty\n",
    "\\end{aligned}\n",
    "$$\n",
    "If $a\\sim \\mathcal{U}(0,1) \\Rightarrow p(a\\leq a_0) = a_0$\n",
    "\n",
    "If we get $X=F^{-1}(a)$, then X has probabilty distribution $F$.\n",
    "$$\n",
    "\\begin{aligned}\n",
    "P(X \\le x) &= P(F^{-1}(a) \\le x) \\\\\n",
    "&= P(a \\le F(x)) \\\\\n",
    "&= F(x) \\quad \\textrm{Since} \\quad a\\sim \\mathcal{U}(0,1)\n",
    "\\end{aligned}\n",
    "$$\n",
    "\n",
    "حالا موارد بالا را امتحان می‌کنیم.\n",
    "ابتدا برای تولید اعداد تصادفی نرمال با استفاده از توزیع یکنواخت و بعد برای مورد تولید نقاط تصادفی در داخل گوی واحد بدون استفاده از روشی که قبلا بکار برده بودیم یعنی\n",
    "\n",
    "Rejection Sampling.\n",
    "\n",
    " یک تعداد عدد تصادفی از توزیع یکنواخت تولید کرده و سپس با وارون تابع تجمعی توزیع نرمال به توزیع نرمال می‌رسیم\n",
    "\n",
    " https://stackoverflow.com/questions/20626994/how-to-calculate-the-inverse-of-the-normal-cumulative-distribution-function-in-p"
   ]
  },
  {
   "cell_type": "code",
   "execution_count": 23,
   "metadata": {},
   "outputs": [
    {
     "name": "stdout",
     "output_type": "stream",
     "text": [
      "-0.007414259477000615 1.0542662604316435\n"
     ]
    }
   ],
   "source": [
    "from statistics import NormalDist # Needs Python >= 3.8\n",
    "x = np.random.rand(1000)\n",
    "y = [NormalDist().inv_cdf(a) for a in x]\n",
    "y = np.array(y)\n",
    "print(y.mean(), y.var())"
   ]
  },
  {
   "cell_type": "code",
   "execution_count": 24,
   "metadata": {},
   "outputs": [
    {
     "name": "stderr",
     "output_type": "stream",
     "text": [
      "c:\\Users\\hp\\.conda\\envs\\p310\\lib\\site-packages\\seaborn\\axisgrid.py:118: UserWarning: The figure layout has changed to tight\n",
      "  self._figure.tight_layout(*args, **kwargs)\n"
     ]
    },
    {
     "data": {
      "text/plain": [
       "<seaborn.axisgrid.FacetGrid at 0x157ad97dcf0>"
      ]
     },
     "execution_count": 24,
     "metadata": {},
     "output_type": "execute_result"
    },
    {
     "data": {
      "image/png": "[encoded data removed]",
      "text/plain": [
       "<Figure size 360x360 with 1 Axes>"
      ]
     },
     "metadata": {
      "needs_background": "light"
     },
     "output_type": "display_data"
    }
   ],
   "source": [
    "sns.displot(y, kde=True)"
   ]
  },
  {
   "cell_type": "markdown",
   "metadata": {},
   "source": [
    "## تولید نقاط تصادفی با توزیع یکنواخت در داخل گوی واحد\n",
    "\n",
    "یک سری نقاط تصادفی که هر مؤلفه‌ی هر نقطه از توزیع گوسی آمده است تولید می‌کنیم، سپس مشابه برنامه بالا هر نقطه را بر اندازه‌اش تقسیم می‌کنیم."
   ]
  },
  {
   "cell_type": "code",
   "execution_count": 25,
   "metadata": {},
   "outputs": [],
   "source": [
    "x = np.random.randn(400, 2)\n",
    "norm_x = np.linalg.norm(x, axis=1)\n",
    "y = x/norm_x[:,np.newaxis]"
   ]
  },
  {
   "cell_type": "markdown",
   "metadata": {},
   "source": [
    "قبلا دیدیم که وای‌های فوق نتیجه نگاشت ایکس‌ها بر روی دایره واحد بودند، اگر وای‌ها را در یک رو ضرب کنیم، در داخل دایره واحد جابجا می‌شوند\n",
    "\n",
    "$$x = (x_1,x_2,\\dots,x_d)$$\n",
    "$$x_i \\sim \\mathcal{N}(\\mu,\\sigma^2)$$\n",
    "$$y=\\rho\\frac{x}{||x||}, \\quad 0\\le \\rho \\le 1$$\n",
    "\n",
    "اما چگالی نقاط تولید شده در داخل دایره یکنواخت نیست.\n"
   ]
  },
  {
   "cell_type": "code",
   "execution_count": 26,
   "metadata": {},
   "outputs": [
    {
     "data": {
      "image/png": "[encoded data removed]",
      "text/plain": [
       "<Figure size 432x432 with 1 Axes>"
      ]
     },
     "metadata": {
      "needs_background": "light"
     },
     "output_type": "display_data"
    }
   ],
   "source": [
    "rho = np.random.rand(len(x))\n",
    "y = rho[:,np.newaxis] * x/norm_x[:,np.newaxis]\n",
    "plt.figure(figsize=(6, 6))\n",
    "plt.scatter(x[:,0],x[:,1],.1)\n",
    "plt.scatter(y[:,0],y[:,1],3)\n",
    "ax = plt.gca()\n",
    "ax.set_aspect('equal', adjustable='box')\n",
    "plt.draw()"
   ]
  },
  {
   "cell_type": "markdown",
   "metadata": {},
   "source": [
    "قبل از ادامه، یادآوری چند تعریف از کتاب زکی: \n",
    "\n",
    "ابتدا ابرکره، رابطه ۶.۱ کتاب زکی\n",
    "\n",
    "The data hyperspace can be represented as a\n",
    "$d$-dimensional *hyperball*\n",
    "centered at $0$ with radius $r$, defined as\n",
    "$$\n",
    "  B_d(r) = \\bigl\\{ x\\; |\\;\\; ||x|| \\le r\\bigr\\}\n",
    "$$\n",
    "\n",
    "The surface of the hyperball is called a *hypersphere*,\n",
    "and it consists of all the points exactly at distance $r$ from\n",
    "the center of the hyperball\n",
    "$$\n",
    "  S_d(r) = \\bigl\\{ x\\; |\\;\\; ||x|| = r\\bigr\\}\n",
    "$$\n",
    "البته حجم هر دو یکسان هست، رابطه ۶.۱۰ کتاب زکی:\n",
    "$$\n",
    "\\textrm{Vol}(S_d(r))=K_d r^d\n",
    "$$\n",
    "<div dir=\"rtl\">\n",
    "که در آن \n",
    "$k_d$\n",
    "حجم کره واحد d بعدی هست. \n",
    "</div>\n",
    "\n",
    "$$\n",
    "\\textrm{Vol}(S_d(1))= K_d\n",
    "$$\n",
    "\n"
   ]
  },
  {
   "cell_type": "markdown",
   "metadata": {},
   "source": []
  },
  {
   "cell_type": "markdown",
   "metadata": {},
   "source": [
    "اگر قرار باشد چگالی نقاط در همه جا یکسان باشد، رو باید از توزیع دیگری باشد\n",
    "به نحوی که\n",
    "\n",
    "$$P(\\rho \\le r) =  \\frac{\\textrm{Vol}(S_d(r))}{\\textrm{Vol}(S_d(1))}$$\n",
    "<div dir=\"rtl\">\n",
    "که در آن،\n",
    "صورت کسر،\n",
    " حجم گوی d بعدی به شعاع r هست\n",
    " و مخرج کسر\n",
    " حجم گوی واحد.\n",
    "\n",
    " و می‌دانیم که\n",
    " حجم گوی d بعدی به شعاع r،\n",
    " r به توان d برابر حجم گوی واحد هست یعنی:\n",
    "</div>\n",
    "\n",
    "$$P(\\rho \\le r) = \\frac{r^d K_d}{K_d} = r^d\n",
    "$$\n",
    "<div dir=\"rtl\">\n",
    " لذا CDF رو باید به صورت x^d باشد:\n",
    "</div>\n",
    "\n",
    "$$ F(x) = x^d$$\n",
    "\n",
    "<div dir=\"rtl\">\n",
    "مطابق آنچه در بالاتر دیدیم، برای اینکه رو از همچین توزیعی دربیاد، \n",
    "کافیست a را با توزیع یکنواخت تولید کنیم و وارون تابع توزیع تجمعی رو را روی آن اعمال کنیم:\n",
    "</div>\n",
    "\n",
    "$a\\sim \\mathcal{U}(0,1)$\n",
    "\n",
    "$$\\rho = F^{-1}(a) = a ^ {1/d}$$\n"
   ]
  },
  {
   "cell_type": "code",
   "execution_count": 27,
   "metadata": {},
   "outputs": [
    {
     "data": {
      "image/png": "[encoded data removed]",
      "text/plain": [
       "<Figure size 432x432 with 1 Axes>"
      ]
     },
     "metadata": {
      "needs_background": "light"
     },
     "output_type": "display_data"
    }
   ],
   "source": [
    "a = np.random.rand(len(x))\n",
    "d = 2\n",
    "rho = a**(1/d)\n",
    "y = rho[:,np.newaxis] * x/norm_x[:,np.newaxis]\n",
    "plt.figure(figsize=(6, 6))\n",
    "plt.scatter(x[:,0],x[:,1],.1)\n",
    "plt.scatter(y[:,0],y[:,1],3)\n",
    "ax = plt.gca()\n",
    "ax.set_aspect('equal', adjustable='box')\n",
    "plt.draw()"
   ]
  },
  {
   "cell_type": "markdown",
   "metadata": {},
   "source": [
    "We did it :)"
   ]
  },
  {
   "cell_type": "markdown",
   "metadata": {},
   "source": [
    "* بررسی تقریبا متعامد بودن بردارهای با مؤلفه‌های گوسی در فضاهای با ابعاد بالا"
   ]
  },
  {
   "cell_type": "code",
   "execution_count": 31,
   "metadata": {},
   "outputs": [
    {
     "name": "stdout",
     "output_type": "stream",
     "text": [
      "0.03750891991607998\n",
      "0.025259876531181624\n",
      "-0.07260833023676055\n",
      "0.03445371133281671\n",
      "-0.012481049889131901\n",
      "0.017875744361172376\n"
     ]
    }
   ],
   "source": [
    "x = np.random.randn(4, 200)\n",
    "norm_x = np.linalg.norm(x, axis=1)\n",
    "\n",
    "a = np.random.rand(len(x))\n",
    "d = 2\n",
    "rho = a**(1/d)\n",
    "y = rho[:,np.newaxis] * x/norm_x[:,np.newaxis]\n",
    "\n",
    "for i in range(len(y)):\n",
    "    for j in range(i+1,len(y)):\n",
    "        print(np.dot(y[i],y[j]))"
   ]
  },
  {
   "cell_type": "markdown",
   "metadata": {},
   "source": [
    "تمرینها:\n",
    "* تخمین حجم ابرکره با روش مونت کارلو\n",
    "* تخمین نسبت حجم ابرکره به ابرمکعب محیط بر آن\n",
    "* تخمین نسبت حجم پوسته‌ی به ضخامت اپسیلون به کل ابرکره"
   ]
  }
 ],
 "metadata": {
  "kernelspec": {
   "display_name": "p310",
   "language": "python",
   "name": "python3"
  },
  "language_info": {
   "codemirror_mode": {
    "name": "ipython",
    "version": 3
   },
   "file_extension": ".py",
   "mimetype": "text/x-python",
   "name": "python",
   "nbconvert_exporter": "python",
   "pygments_lexer": "ipython3",
   "version": "3.10.4"
  }
 },
 "nbformat": 4,
 "nbformat_minor": 2
}
