{
 "cells": [
  {
   "attachments": {},
   "cell_type": "markdown",
   "metadata": {},
   "source": [
    "### Fatehinia\n",
    "#### ex: چاپ جدول درستی\n",
    "#### link: ``https://vu.um.ac.ir/mod/assign/view.php?id=441616``"
   ]
  },
  {
   "cell_type": "code",
   "execution_count": 1,
   "metadata": {},
   "outputs": [],
   "source": [
    "N = 4"
   ]
  },
  {
   "cell_type": "markdown",
   "metadata": {},
   "source": [
    "#### using recursion  "
   ]
  },
  {
   "cell_type": "code",
   "execution_count": 2,
   "metadata": {},
   "outputs": [
    {
     "name": "stdout",
     "output_type": "stream",
     "text": [
      "0000\n",
      "0001\n",
      "0010\n",
      "0011\n"
     ]
    }
   ],
   "source": [
    "def foo(N: int) -> list[str]:\n",
    "    if N == 1:\n",
    "        return [\"0\", \"1\"]\n",
    "    A, B = [], []\n",
    "    for i in foo(N - 1):\n",
    "        A.append(\"0\" + i)\n",
    "        B.append(\"1\" + i)\n",
    "    return A + B\n",
    "\n",
    "\n",
    "for i in foo(N)[:N]:\n",
    "    print(i)"
   ]
  },
  {
   "cell_type": "markdown",
   "metadata": {},
   "source": [
    "#### using dec2bin"
   ]
  },
  {
   "cell_type": "code",
   "execution_count": 3,
   "metadata": {},
   "outputs": [
    {
     "name": "stdout",
     "output_type": "stream",
     "text": [
      "0000\n",
      "0001\n",
      "0010\n",
      "0011\n"
     ]
    }
   ],
   "source": [
    "for i in range(N):\n",
    "    print((\"{:0\" + str(N) + \"b}\").format(i))"
   ]
  }
 ],
 "metadata": {
  "kernelspec": {
   "display_name": "Python 3",
   "language": "python",
   "name": "python3"
  },
  "language_info": {
   "codemirror_mode": {
    "name": "ipython",
    "version": 3
   },
   "file_extension": ".py",
   "mimetype": "text/x-python",
   "name": "python",
   "nbconvert_exporter": "python",
   "pygments_lexer": "ipython3",
   "version": "3.9.13"
  },
  "orig_nbformat": 4,
  "vscode": {
   "interpreter": {
    "hash": "b3fafc03f82a0e00d19054f9eb17df0128f0d4c01e6fc9ff64dab72222315f5f"
   }
  }
 },
 "nbformat": 4,
 "nbformat_minor": 2
}
